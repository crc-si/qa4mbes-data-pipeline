{
 "cells": [
  {
   "cell_type": "markdown",
   "metadata": {},
   "source": [
    "# QA4MBES functionality 3: survey density testing\n"
   ]
  },
  {
   "cell_type": "code",
   "execution_count": 1,
   "metadata": {
    "scrolled": true
   },
   "outputs": [],
   "source": [
    "from shapely.geometry import shape\n",
    "import json"
   ]
  },
  {
   "cell_type": "code",
   "execution_count": 2,
   "metadata": {},
   "outputs": [],
   "source": [
    "## awkward hack to import local modules in Jupyter\n",
    "import sys\n",
    "sys.executable\n",
    "sys.path.append('/mnt/bigdata/frontierSI/qa4mbes-data-pipeline/qa4mbes')"
   ]
  },
  {
   "cell_type": "code",
   "execution_count": 3,
   "metadata": {},
   "outputs": [],
   "source": [
    "import testcoverage\n",
    "import testdensity\n",
    "import getpointcoverage\n",
    "import getpointdensity\n",
    "import getgriddensity"
   ]
  },
  {
   "cell_type": "markdown",
   "metadata": {},
   "source": [
    "## Check XYZ ASCII point cloud density\n"
   ]
  },
  {
   "cell_type": "code",
   "execution_count": 4,
   "metadata": {},
   "outputs": [
    {
     "name": "stdout",
     "output_type": "stream",
     "text": [
      "CPU times: user 743 ms, sys: 10.2 ms, total: 753 ms\n",
      "Wall time: 750 ms\n"
     ]
    }
   ],
   "source": [
    "%%time\n",
    "\n",
    "xyzdensity = testdensity.testdensity('../tests/xyzdata/4819-100000lines.xyz')"
   ]
  },
  {
   "cell_type": "code",
   "execution_count": 5,
   "metadata": {},
   "outputs": [
    {
     "data": {
      "text/plain": [
       "{'teststart': '2019-03-04T20:22:02.390722',\n",
       " 'teststop': '2019-03-04T20:22:03.140867',\n",
       " 'testswath': '../tests/xyzdata/4819-100000lines.xyz',\n",
       " 'meandensity': 3.562268874281518,\n",
       " 'xspacing': None,\n",
       " 'yspacing': None,\n",
       " 'area': 356226.8874281518,\n",
       " 'datapoints': 100000}"
      ]
     },
     "execution_count": 5,
     "metadata": {},
     "output_type": "execute_result"
    }
   ],
   "source": [
    "xyzdensity"
   ]
  },
  {
   "cell_type": "markdown",
   "metadata": {},
   "source": [
    "## Check LAS point cloud density"
   ]
  },
  {
   "cell_type": "code",
   "execution_count": 6,
   "metadata": {
    "scrolled": true
   },
   "outputs": [
    {
     "name": "stdout",
     "output_type": "stream",
     "text": [
      "CPU times: user 446 ms, sys: 18.3 ms, total: 464 ms\n",
      "Wall time: 462 ms\n"
     ]
    }
   ],
   "source": [
    "%%time\n",
    "\n",
    "lasdensity = testdensity.testdensity('../tests/lasdata/4819-100000lines.laz')"
   ]
  },
  {
   "cell_type": "code",
   "execution_count": 7,
   "metadata": {},
   "outputs": [
    {
     "data": {
      "text/plain": [
       "{'teststart': '2019-03-04T20:22:03.172274',\n",
       " 'teststop': '2019-03-04T20:22:03.634577',\n",
       " 'testswath': '../tests/lasdata/4819-100000lines.laz',\n",
       " 'meandensity': 3.4635644735565165,\n",
       " 'xspacing': None,\n",
       " 'yspacing': None,\n",
       " 'area': 346356.44735565165,\n",
       " 'datapoints': 100000}"
      ]
     },
     "execution_count": 7,
     "metadata": {},
     "output_type": "execute_result"
    }
   ],
   "source": [
    "lasdensity"
   ]
  },
  {
   "cell_type": "markdown",
   "metadata": {},
   "source": [
    "### Geotiff grid spacing"
   ]
  },
  {
   "cell_type": "code",
   "execution_count": 8,
   "metadata": {},
   "outputs": [
    {
     "name": "stdout",
     "output_type": "stream",
     "text": [
      "CPU times: user 34.3 s, sys: 517 ms, total: 34.8 s\n",
      "Wall time: 34.8 s\n"
     ]
    }
   ],
   "source": [
    "%%time\n",
    "\n",
    "tiffdensity = testdensity.testdensity('../../sampledata/raster/grid1_1m.tiff')"
   ]
  },
  {
   "cell_type": "code",
   "execution_count": 9,
   "metadata": {},
   "outputs": [
    {
     "data": {
      "text/plain": [
       "{'teststart': '2019-03-04T20:22:03.660990',\n",
       " 'teststop': '2019-03-04T20:22:38.488724',\n",
       " 'testswath': '../../sampledata/raster/grid1_1m.tiff',\n",
       " 'meandensity': 1.0008060883364107,\n",
       " 'xspacing': 1.0,\n",
       " 'yspacing': 1.0,\n",
       " 'area': 17465007.999999493,\n",
       " 'datapoints': 17450941}"
      ]
     },
     "execution_count": 9,
     "metadata": {},
     "output_type": "execute_result"
    }
   ],
   "source": [
    "tiffdensity"
   ]
  },
  {
   "cell_type": "code",
   "execution_count": 10,
   "metadata": {},
   "outputs": [
    {
     "name": "stdout",
     "output_type": "stream",
     "text": [
      "CPU times: user 33.1 s, sys: 268 ms, total: 33.4 s\n",
      "Wall time: 33.4 s\n"
     ]
    }
   ],
   "source": [
    "%%time\n",
    "\n",
    "bagdensity = testdensity.testdensity('../../bag-samples/grid1_ellipsoid_1m.bag')"
   ]
  },
  {
   "cell_type": "code",
   "execution_count": 11,
   "metadata": {},
   "outputs": [
    {
     "data": {
      "text/plain": [
       "{'teststart': '2019-03-04T20:22:38.513679',\n",
       " 'teststop': '2019-03-04T20:23:11.866211',\n",
       " 'testswath': '../../bag-samples/grid1_ellipsoid_1m.bag',\n",
       " 'meandensity': 1.0011164647592998,\n",
       " 'xspacing': 1.000153846153848,\n",
       " 'yspacing': 1.000152671755718,\n",
       " 'area': 17587152.538201123,\n",
       " 'datapoints': 17567539}"
      ]
     },
     "execution_count": 11,
     "metadata": {},
     "output_type": "execute_result"
    }
   ],
   "source": [
    "bagdensity"
   ]
  },
  {
   "cell_type": "markdown",
   "metadata": {},
   "source": [
    "### Interpreting results\n",
    "\n",
    "`testdensity` returns a JSON string containing:\n",
    "\n",
    "- time of test start\n",
    "- time of test stop\n",
    "- path to the survey swath being tested\n",
    "- point density (in points per square unit, generally metres)\n",
    "- grid spacing in metres\n",
    "- area of the test swath in square metres\n",
    "- number of datapoints, which is 'point count' for point cloud data and 'pixel count' for grids"
   ]
  },
  {
   "cell_type": "code",
   "execution_count": null,
   "metadata": {},
   "outputs": [],
   "source": []
  },
  {
   "cell_type": "code",
   "execution_count": null,
   "metadata": {},
   "outputs": [],
   "source": []
  }
 ],
 "metadata": {
  "kernelspec": {
   "display_name": "Python 3",
   "language": "python",
   "name": "python3"
  },
  "language_info": {
   "codemirror_mode": {
    "name": "ipython",
    "version": 3
   },
   "file_extension": ".py",
   "mimetype": "text/x-python",
   "name": "python",
   "nbconvert_exporter": "python",
   "pygments_lexer": "ipython3",
   "version": "3.6.7"
  }
 },
 "nbformat": 4,
 "nbformat_minor": 2
}
