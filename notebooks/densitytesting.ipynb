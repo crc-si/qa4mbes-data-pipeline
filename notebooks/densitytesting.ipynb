{
 "cells": [
  {
   "cell_type": "markdown",
   "metadata": {},
   "source": [
    "# QA4MBES functionality 3: survey density testing\n"
   ]
  },
  {
   "cell_type": "code",
   "execution_count": 1,
   "metadata": {
    "scrolled": true
   },
   "outputs": [],
   "source": [
    "from shapely.geometry import shape\n",
    "import json"
   ]
  },
  {
   "cell_type": "code",
   "execution_count": 2,
   "metadata": {},
   "outputs": [],
   "source": [
    "## awkward hack to import local modules in Jupyter\n",
    "import sys\n",
    "sys.executable\n",
    "sys.path.append('/mnt/bigdata/frontierSI/qa4mbes-data-pipeline/qa4mbes')"
   ]
  },
  {
   "cell_type": "code",
   "execution_count": 3,
   "metadata": {},
   "outputs": [],
   "source": [
    "import testcoverage\n",
    "import testdensity\n",
    "import getpointcoverage\n",
    "import getpointdensity\n",
    "import getgriddensity"
   ]
  },
  {
   "cell_type": "markdown",
   "metadata": {},
   "source": [
    "## Check XYZ ASCII point cloud density\n"
   ]
  },
  {
   "cell_type": "code",
   "execution_count": 4,
   "metadata": {},
   "outputs": [
    {
     "name": "stdout",
     "output_type": "stream",
     "text": [
      "CPU times: user 727 ms, sys: 8.85 ms, total: 736 ms\n",
      "Wall time: 732 ms\n"
     ]
    }
   ],
   "source": [
    "%%time\n",
    "\n",
    "xyzdensity = testdensity.testdensity('../tests/xyzdata/4819-100000lines.xyz')"
   ]
  },
  {
   "cell_type": "code",
   "execution_count": 5,
   "metadata": {},
   "outputs": [
    {
     "data": {
      "text/plain": [
       "{'teststart': '2019-03-04T14:01:23.558661',\n",
       " 'teststop': '2019-03-04T14:01:24.290559',\n",
       " 'testswath': '../tests/xyzdata/4819-100000lines.xyz',\n",
       " 'pointdensity': 3.562268874281518,\n",
       " 'gridspacing': None,\n",
       " 'area': 356226.8874281518,\n",
       " 'datapoints': 100000}"
      ]
     },
     "execution_count": 5,
     "metadata": {},
     "output_type": "execute_result"
    }
   ],
   "source": [
    "xyzdensity"
   ]
  },
  {
   "cell_type": "markdown",
   "metadata": {},
   "source": [
    "## Check LAS point cloud density"
   ]
  },
  {
   "cell_type": "code",
   "execution_count": 6,
   "metadata": {
    "scrolled": true
   },
   "outputs": [
    {
     "name": "stdout",
     "output_type": "stream",
     "text": [
      "CPU times: user 465 ms, sys: 15.7 ms, total: 481 ms\n",
      "Wall time: 479 ms\n"
     ]
    }
   ],
   "source": [
    "%%time\n",
    "\n",
    "lasdensity = testdensity.testdensity('../tests/lasdata/4819-100000lines.laz')"
   ]
  },
  {
   "cell_type": "code",
   "execution_count": 7,
   "metadata": {},
   "outputs": [
    {
     "data": {
      "text/plain": [
       "{'teststart': '2019-03-04T14:01:24.323255',\n",
       " 'teststop': '2019-03-04T14:01:24.801886',\n",
       " 'testswath': '../tests/lasdata/4819-100000lines.laz',\n",
       " 'pointdensity': 3.4635644735565165,\n",
       " 'gridspacing': None,\n",
       " 'area': 346356.44735565165,\n",
       " 'datapoints': 100000}"
      ]
     },
     "execution_count": 7,
     "metadata": {},
     "output_type": "execute_result"
    }
   ],
   "source": [
    "lasdensity"
   ]
  },
  {
   "cell_type": "markdown",
   "metadata": {},
   "source": [
    "### Geotiff grid spacing"
   ]
  },
  {
   "cell_type": "code",
   "execution_count": 8,
   "metadata": {},
   "outputs": [
    {
     "name": "stdout",
     "output_type": "stream",
     "text": [
      "CPU times: user 34.8 s, sys: 619 ms, total: 35.4 s\n",
      "Wall time: 35.4 s\n"
     ]
    }
   ],
   "source": [
    "%%time\n",
    "\n",
    "tiffdensity = getgriddensity.gdaldensity('../../sampledata/raster/grid1_1m.tiff')"
   ]
  },
  {
   "cell_type": "code",
   "execution_count": 12,
   "metadata": {},
   "outputs": [
    {
     "data": {
      "text/plain": [
       "'{\"xspacing\": 1.0, \"yspacing\": 1.0, \"meandensity\": 0.5004030441682054, \"area\": 17465007.999999493, \"npoints\": 34901882}'"
      ]
     },
     "execution_count": 12,
     "metadata": {},
     "output_type": "execute_result"
    }
   ],
   "source": [
    "tiffdensity"
   ]
  },
  {
   "cell_type": "code",
   "execution_count": 13,
   "metadata": {},
   "outputs": [
    {
     "ename": "AttributeError",
     "evalue": "module 'getpointdensity' has no attribute 'gdaldensity'",
     "output_type": "error",
     "traceback": [
      "\u001b[0;31m---------------------------------------------------------------------------\u001b[0m",
      "\u001b[0;31mAttributeError\u001b[0m                            Traceback (most recent call last)",
      "\u001b[0;32m<ipython-input-13-f3857d8228ff>\u001b[0m in \u001b[0;36m<module>\u001b[0;34m()\u001b[0m\n\u001b[0;32m----> 1\u001b[0;31m \u001b[0mtiffdensitytest\u001b[0m \u001b[0;34m=\u001b[0m \u001b[0mtestdensity\u001b[0m\u001b[0;34m.\u001b[0m\u001b[0mtestdensity\u001b[0m\u001b[0;34m(\u001b[0m\u001b[0;34m'../../sampledata/raster/grid1_1m.tiff'\u001b[0m\u001b[0;34m)\u001b[0m\u001b[0;34m\u001b[0m\u001b[0;34m\u001b[0m\u001b[0m\n\u001b[0m",
      "\u001b[0;32m/mnt/bigdata/frontierSI/qa4mbes-data-pipeline/qa4mbes/testdensity.py\u001b[0m in \u001b[0;36mtestdensity\u001b[0;34m(surveyswath)\u001b[0m\n\u001b[1;32m     51\u001b[0m     \u001b[0;31m# building now\u001b[0m\u001b[0;34m\u001b[0m\u001b[0;34m\u001b[0m\u001b[0;34m\u001b[0m\u001b[0m\n\u001b[1;32m     52\u001b[0m     \u001b[0;32melif\u001b[0m \u001b[0;34m(\u001b[0m\u001b[0mre\u001b[0m\u001b[0;34m.\u001b[0m\u001b[0msearch\u001b[0m\u001b[0;34m(\u001b[0m\u001b[0;34m\".*\\.tif|\\.TIF|\\.tiff$\"\u001b[0m\u001b[0;34m,\u001b[0m \u001b[0msurveyswath\u001b[0m\u001b[0;34m)\u001b[0m\u001b[0;34m)\u001b[0m\u001b[0;34m:\u001b[0m\u001b[0;34m\u001b[0m\u001b[0;34m\u001b[0m\u001b[0m\n\u001b[0;32m---> 53\u001b[0;31m         \u001b[0mdensity\u001b[0m \u001b[0;34m=\u001b[0m \u001b[0mgetpointdensity\u001b[0m\u001b[0;34m.\u001b[0m\u001b[0mgdaldensity\u001b[0m\u001b[0;34m(\u001b[0m\u001b[0msurveyswath\u001b[0m\u001b[0;34m)\u001b[0m\u001b[0;34m\u001b[0m\u001b[0;34m\u001b[0m\u001b[0m\n\u001b[0m\u001b[1;32m     54\u001b[0m \u001b[0;34m\u001b[0m\u001b[0m\n\u001b[1;32m     55\u001b[0m     \u001b[0;31m#if survey coverage or planning coverage doesn't have a CRS:\u001b[0m\u001b[0;34m\u001b[0m\u001b[0;34m\u001b[0m\u001b[0;34m\u001b[0m\u001b[0m\n",
      "\u001b[0;31mAttributeError\u001b[0m: module 'getpointdensity' has no attribute 'gdaldensity'"
     ]
    }
   ],
   "source": [
    "tiffdensitytest = testdensity.testdensity('../../sampledata/raster/grid1_1m.tiff')"
   ]
  },
  {
   "cell_type": "code",
   "execution_count": 9,
   "metadata": {},
   "outputs": [
    {
     "name": "stdout",
     "output_type": "stream",
     "text": [
      "CPU times: user 33.6 s, sys: 472 ms, total: 34.1 s\n",
      "Wall time: 34.1 s\n"
     ]
    }
   ],
   "source": [
    "%%time\n",
    "\n",
    "bagdensity = getgriddensity.gdaldensity('../../bag-samples/grid1_ellipsoid_1m.bag')"
   ]
  },
  {
   "cell_type": "code",
   "execution_count": 10,
   "metadata": {},
   "outputs": [
    {
     "data": {
      "text/plain": [
       "'{\"xspacing\": 1.000153846153848, \"yspacing\": 1.000152671755718, \"meandensity\": 0.5005582323796499, \"area\": 17587152.538201123, \"npoints\": 35135078}'"
      ]
     },
     "execution_count": 10,
     "metadata": {},
     "output_type": "execute_result"
    }
   ],
   "source": [
    "bagdensity"
   ]
  },
  {
   "cell_type": "code",
   "execution_count": null,
   "metadata": {},
   "outputs": [],
   "source": [
    "\n"
   ]
  },
  {
   "cell_type": "markdown",
   "metadata": {},
   "source": [
    "### Interpreting results\n",
    "\n",
    "`testdensity` returns a JSON string containing:\n",
    "\n",
    "- time of test start\n",
    "- time of test stop\n",
    "- path to the survey swath being tested\n",
    "- point density (in points per square unit, generally metres)\n",
    "- grid spacing in metres\n",
    "- area of the test swath in square metres\n",
    "- number of datapoints, which is 'point count' for point cloud data and 'pixel count' for grids"
   ]
  },
  {
   "cell_type": "code",
   "execution_count": null,
   "metadata": {},
   "outputs": [],
   "source": []
  },
  {
   "cell_type": "code",
   "execution_count": null,
   "metadata": {},
   "outputs": [],
   "source": []
  }
 ],
 "metadata": {
  "kernelspec": {
   "display_name": "Python 3",
   "language": "python",
   "name": "python3"
  },
  "language_info": {
   "codemirror_mode": {
    "name": "ipython",
    "version": 3
   },
   "file_extension": ".py",
   "mimetype": "text/x-python",
   "name": "python",
   "nbconvert_exporter": "python",
   "pygments_lexer": "ipython3",
   "version": "3.6.7"
  }
 },
 "nbformat": 4,
 "nbformat_minor": 2
}
