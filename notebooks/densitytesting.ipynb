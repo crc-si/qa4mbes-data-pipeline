{
 "cells": [
  {
   "cell_type": "markdown",
   "metadata": {},
   "source": [
    "# QA4MBES functionality 3: survey density testing\n"
   ]
  },
  {
   "cell_type": "code",
   "execution_count": 15,
   "metadata": {
    "scrolled": true
   },
   "outputs": [],
   "source": [
    "from shapely.geometry import shape\n",
    "import json"
   ]
  },
  {
   "cell_type": "code",
   "execution_count": 16,
   "metadata": {},
   "outputs": [],
   "source": [
    "## awkward hack to import local modules in Jupyter\n",
    "import sys\n",
    "sys.executable\n",
    "sys.path.append('/mnt/bigdata/frontierSI/qa4mbes-data-pipeline/qa4mbes')"
   ]
  },
  {
   "cell_type": "code",
   "execution_count": 17,
   "metadata": {},
   "outputs": [],
   "source": [
    "import testcoverage\n",
    "import testdensity\n",
    "import getpointcoverage\n",
    "import getpointdensity"
   ]
  },
  {
   "cell_type": "markdown",
   "metadata": {},
   "source": [
    "## Check XYZ ASCII point cloud density\n"
   ]
  },
  {
   "cell_type": "code",
   "execution_count": 18,
   "metadata": {},
   "outputs": [
    {
     "name": "stdout",
     "output_type": "stream",
     "text": [
      "+proj=utm +zone=55 +south +ellps=WGS84 +datum=WGS84 +units=m +no_defs\n",
      "CPU times: user 730 ms, sys: 8.94 ms, total: 739 ms\n",
      "Wall time: 734 ms\n"
     ]
    }
   ],
   "source": [
    "%%time\n",
    "\n",
    "xyzdensity = getpointdensity.xyzdensity('../tests/xyzdata/4819-100000lines.xyz')"
   ]
  },
  {
   "cell_type": "code",
   "execution_count": 19,
   "metadata": {},
   "outputs": [
    {
     "data": {
      "text/plain": [
       "'{\"meandensity\": 3.562268874281518, \"area\": 356226.8874281518, \"npoints\": 100000}'"
      ]
     },
     "execution_count": 19,
     "metadata": {},
     "output_type": "execute_result"
    }
   ],
   "source": [
    "xyzdensity"
   ]
  },
  {
   "cell_type": "code",
   "execution_count": 20,
   "metadata": {},
   "outputs": [
    {
     "name": "stdout",
     "output_type": "stream",
     "text": [
      "+proj=utm +zone=55 +south +ellps=WGS84 +datum=WGS84 +units=m +no_defs\n",
      "CPU times: user 716 ms, sys: 18.1 ms, total: 735 ms\n",
      "Wall time: 731 ms\n"
     ]
    }
   ],
   "source": [
    "%%time\n",
    "\n",
    "xyzdensity = testdensity.testdensity('../tests/xyzdata/4819-100000lines.xyz')"
   ]
  },
  {
   "cell_type": "code",
   "execution_count": 21,
   "metadata": {},
   "outputs": [
    {
     "data": {
      "text/plain": [
       "{'teststart': '2019-03-01T16:39:10.344174',\n",
       " 'teststop': '2019-03-01T16:39:11.075390',\n",
       " 'testswath': '../tests/xyzdata/4819-100000lines.xyz',\n",
       " 'pointdensity': 3.562268874281518,\n",
       " 'gridspacing': None,\n",
       " 'area': 356226.8874281518,\n",
       " 'datapoints': 100000}"
      ]
     },
     "execution_count": 21,
     "metadata": {},
     "output_type": "execute_result"
    }
   ],
   "source": [
    "xyzdensity"
   ]
  },
  {
   "cell_type": "markdown",
   "metadata": {},
   "source": [
    "## Check LAS point cloud density"
   ]
  },
  {
   "cell_type": "code",
   "execution_count": 22,
   "metadata": {
    "scrolled": true
   },
   "outputs": [
    {
     "name": "stdout",
     "output_type": "stream",
     "text": [
      "CPU times: user 473 ms, sys: 137 µs, total: 473 ms\n",
      "Wall time: 470 ms\n"
     ]
    }
   ],
   "source": [
    "%%time\n",
    "\n",
    "lasdensity = testdensity.testdensity('../tests/lasdata/4819-100000lines.laz')"
   ]
  },
  {
   "cell_type": "code",
   "execution_count": 23,
   "metadata": {},
   "outputs": [
    {
     "data": {
      "text/plain": [
       "{'teststart': '2019-03-01T16:39:11.720456',\n",
       " 'teststop': '2019-03-01T16:39:12.190854',\n",
       " 'testswath': '../tests/lasdata/4819-100000lines.laz',\n",
       " 'pointdensity': 3.4635644735565165,\n",
       " 'gridspacing': None,\n",
       " 'area': 346356.44735565165,\n",
       " 'datapoints': 100000}"
      ]
     },
     "execution_count": 23,
     "metadata": {},
     "output_type": "execute_result"
    }
   ],
   "source": [
    "lasdensity"
   ]
  },
  {
   "cell_type": "code",
   "execution_count": null,
   "metadata": {},
   "outputs": [],
   "source": []
  },
  {
   "cell_type": "markdown",
   "metadata": {},
   "source": [
    "### Interpreting results\n",
    "\n",
    "`testdensity` returns a JSON string containing:\n",
    "\n",
    "- time of test start\n",
    "- time of test stop\n",
    "- path to the survey swath being tested\n",
    "- point density (in points per square unit, generally metres)\n",
    "- grid spacing in metres\n",
    "- area of the test swath in square metres\n",
    "- number of datapoints, \n",
    "- a GeoJSON polygon describing the intersection of planned coverage and survey coverage\n",
    "\n",
    "Optionally, it could contain GeoJSON polygons describing the actual coverages used in the test.\n",
    "\n",
    "**question:** should swath density metrics be included here?"
   ]
  }
 ],
 "metadata": {
  "kernelspec": {
   "display_name": "Python 3",
   "language": "python",
   "name": "python3"
  },
  "language_info": {
   "codemirror_mode": {
    "name": "ipython",
    "version": 3
   },
   "file_extension": ".py",
   "mimetype": "text/x-python",
   "name": "python",
   "nbconvert_exporter": "python",
   "pygments_lexer": "ipython3",
   "version": "3.6.7"
  }
 },
 "nbformat": 4,
 "nbformat_minor": 2
}
