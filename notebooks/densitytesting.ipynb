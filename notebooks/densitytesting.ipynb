{
 "cells": [
  {
   "cell_type": "markdown",
   "metadata": {},
   "source": [
    "# QA4MBES functionality 3: survey density testing\n"
   ]
  },
  {
   "cell_type": "code",
   "execution_count": 1,
   "metadata": {
    "scrolled": true
   },
   "outputs": [],
   "source": [
    "from shapely.geometry import shape\n",
    "import json"
   ]
  },
  {
   "cell_type": "code",
   "execution_count": 2,
   "metadata": {},
   "outputs": [],
   "source": [
    "## awkward hack to import local modules in Jupyter\n",
    "import sys\n",
    "sys.executable\n",
    "sys.path.append('/Users/adam/Spatialised/frontierSI/qa4mbes-data-pipeline/qa4mbes/')"
   ]
  },
  {
   "cell_type": "code",
   "execution_count": 3,
   "metadata": {},
   "outputs": [],
   "source": [
    "import testcoverage\n",
    "import testdensity"
   ]
  },
  {
   "cell_type": "markdown",
   "metadata": {},
   "source": [
    "## Check XYZ ASCII point cloud density\n"
   ]
  },
  {
   "cell_type": "code",
   "execution_count": 4,
   "metadata": {},
   "outputs": [
    {
     "name": "stdout",
     "output_type": "stream",
     "text": [
      "CPU times: user 421 ms, sys: 20.2 ms, total: 442 ms\n",
      "Wall time: 469 ms\n"
     ]
    }
   ],
   "source": [
    "%%time\n",
    "\n",
    "xyzdensity = testdensity.testdensity('../tests/xyzdata/4819-100000lines.xyz')"
   ]
  },
  {
   "cell_type": "code",
   "execution_count": 5,
   "metadata": {},
   "outputs": [
    {
     "data": {
      "text/plain": [
       "{'teststart': '2019-03-06T09:54:14.406030',\n",
       " 'teststop': '2019-03-06T09:54:14.874872',\n",
       " 'testswath': '../tests/xyzdata/4819-100000lines.xyz',\n",
       " 'meandensity': 3.562268874281483,\n",
       " 'xspacing': None,\n",
       " 'yspacing': None,\n",
       " 'area': 356226.8874281483,\n",
       " 'datapoints': 100000}"
      ]
     },
     "execution_count": 5,
     "metadata": {},
     "output_type": "execute_result"
    }
   ],
   "source": [
    "xyzdensity"
   ]
  },
  {
   "cell_type": "markdown",
   "metadata": {},
   "source": [
    "## Check LAS point cloud density"
   ]
  },
  {
   "cell_type": "code",
   "execution_count": 6,
   "metadata": {
    "scrolled": true
   },
   "outputs": [
    {
     "name": "stdout",
     "output_type": "stream",
     "text": [
      "CPU times: user 309 ms, sys: 10.5 ms, total: 320 ms\n",
      "Wall time: 320 ms\n"
     ]
    }
   ],
   "source": [
    "%%time\n",
    "\n",
    "lasdensity = testdensity.testdensity('../tests/lasdata/4819-100000lines.laz')"
   ]
  },
  {
   "cell_type": "code",
   "execution_count": 7,
   "metadata": {
    "scrolled": true
   },
   "outputs": [
    {
     "data": {
      "text/plain": [
       "{'teststart': '2019-03-06T09:54:14.897535',\n",
       " 'teststop': '2019-03-06T09:54:15.217461',\n",
       " 'testswath': '../tests/lasdata/4819-100000lines.laz',\n",
       " 'meandensity': 3.463564473556472,\n",
       " 'xspacing': None,\n",
       " 'yspacing': None,\n",
       " 'area': 346356.4473556472,\n",
       " 'datapoints': 100000}"
      ]
     },
     "execution_count": 7,
     "metadata": {},
     "output_type": "execute_result"
    }
   ],
   "source": [
    "lasdensity"
   ]
  },
  {
   "cell_type": "markdown",
   "metadata": {},
   "source": [
    "## Check geotiff grid spacing and estimate density"
   ]
  },
  {
   "cell_type": "code",
   "execution_count": 8,
   "metadata": {},
   "outputs": [
    {
     "name": "stdout",
     "output_type": "stream",
     "text": [
      "+init=epsg:32755\n",
      "CPU times: user 22.9 s, sys: 989 ms, total: 23.9 s\n",
      "Wall time: 24 s\n"
     ]
    }
   ],
   "source": [
    "%%time\n",
    "\n",
    "tiffdensity = testdensity.testdensity('../../test-grids/geotiff/grid1_1m.tiff')"
   ]
  },
  {
   "cell_type": "code",
   "execution_count": 9,
   "metadata": {},
   "outputs": [
    {
     "data": {
      "text/plain": [
       "{'teststart': '2019-03-06T09:54:15.230371',\n",
       " 'teststop': '2019-03-06T09:54:39.203165',\n",
       " 'testswath': '../../test-grids/geotiff/grid1_1m.tiff',\n",
       " 'meandensity': 1.0008060883364067,\n",
       " 'xspacing': 1.0,\n",
       " 'yspacing': 1.0,\n",
       " 'area': 17465007.999999423,\n",
       " 'datapoints': 17450941}"
      ]
     },
     "execution_count": 9,
     "metadata": {},
     "output_type": "execute_result"
    }
   ],
   "source": [
    "tiffdensity"
   ]
  },
  {
   "cell_type": "markdown",
   "metadata": {},
   "source": [
    "## Check BAG grid spacing and estimate density"
   ]
  },
  {
   "cell_type": "code",
   "execution_count": 12,
   "metadata": {},
   "outputs": [
    {
     "name": "stdout",
     "output_type": "stream",
     "text": [
      "+init=epsg:32755\n",
      "CPU times: user 23.6 s, sys: 1.09 s, total: 24.6 s\n",
      "Wall time: 24.8 s\n"
     ]
    }
   ],
   "source": [
    "%%time\n",
    "\n",
    "bagdensity = testdensity.testdensity('../../test-grids/bag/grid1_ellipsoid_1m.bag')"
   ]
  },
  {
   "cell_type": "code",
   "execution_count": 13,
   "metadata": {},
   "outputs": [
    {
     "data": {
      "text/plain": [
       "{'teststart': '2019-03-06T09:56:32.222161',\n",
       " 'teststop': '2019-03-06T09:56:57.046272',\n",
       " 'testswath': '../../test-grids/bag/grid1_ellipsoid_1m.bag',\n",
       " 'meandensity': 1.0011164647592832,\n",
       " 'xspacing': 1.000153846153848,\n",
       " 'yspacing': 1.000152671755718,\n",
       " 'area': 17587152.538200833,\n",
       " 'datapoints': 17567539}"
      ]
     },
     "execution_count": 13,
     "metadata": {},
     "output_type": "execute_result"
    }
   ],
   "source": [
    "bagdensity"
   ]
  },
  {
   "cell_type": "markdown",
   "metadata": {},
   "source": [
    "## Interpreting results\n",
    "\n",
    "`testdensity` returns a JSON string containing:\n",
    "\n",
    "- time of test start\n",
    "- time of test stop\n",
    "- path to the survey swath being tested\n",
    "- mean density (in datapoints per square unit, generally metres)\n",
    "- grid x spacing in metres\n",
    "- grid y spacing in metres\n",
    "- area of the test swath in square metres\n",
    "- number of datapoints, which is 'point count' for point cloud data and 'pixel count' for grids"
   ]
  }
 ],
 "metadata": {
  "kernelspec": {
   "display_name": "Python 3",
   "language": "python",
   "name": "python3"
  },
  "language_info": {
   "codemirror_mode": {
    "name": "ipython",
    "version": 3
   },
   "file_extension": ".py",
   "mimetype": "text/x-python",
   "name": "python",
   "nbconvert_exporter": "python",
   "pygments_lexer": "ipython3",
   "version": "3.6.7"
  }
 },
 "nbformat": 4,
 "nbformat_minor": 2
}
