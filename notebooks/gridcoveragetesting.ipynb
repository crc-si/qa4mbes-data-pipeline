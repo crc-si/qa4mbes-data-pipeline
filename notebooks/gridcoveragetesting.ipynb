{
 "cells": [
  {
   "cell_type": "markdown",
   "metadata": {},
   "source": [
    "# Testing QA4MBES functionality 2: grid coverage testing\n"
   ]
  },
  {
   "cell_type": "code",
   "execution_count": 1,
   "metadata": {
    "scrolled": true
   },
   "outputs": [],
   "source": [
    "from shapely.geometry import shape\n",
    "import json"
   ]
  },
  {
   "cell_type": "code",
   "execution_count": 2,
   "metadata": {},
   "outputs": [],
   "source": [
    "## awkward hack to import local modules in Jupyter\n",
    "import sys\n",
    "sys.executable\n",
    "sys.path.append('/mnt/bigdata/frontierSI/qa4mbes-data-pipeline/qa4mbes')"
   ]
  },
  {
   "cell_type": "code",
   "execution_count": 3,
   "metadata": {},
   "outputs": [],
   "source": [
    "import testcoverage\n",
    "import getpointcoverage"
   ]
  },
  {
   "cell_type": "code",
   "execution_count": null,
   "metadata": {},
   "outputs": [],
   "source": []
  },
  {
   "cell_type": "markdown",
   "metadata": {},
   "source": [
    "## 1. Check geotiff grid coverage of a planned area\n",
    "\n",
    "Does my geotiff raster cover any of the planned survey region? if so how much? if not roughly how far away were we?"
   ]
  },
  {
   "cell_type": "markdown",
   "metadata": {},
   "source": [
    "### The positive case - we surveyed some of the planned region"
   ]
  },
  {
   "cell_type": "code",
   "execution_count": null,
   "metadata": {
    "scrolled": false
   },
   "outputs": [],
   "source": [
    "%%time\n",
    "\n",
    "coveragestats = testcoverage.testcoverage('/mnt/bigdata/frontierSI/sampledata/raster/grid1_1m-crs.tiff', '../tests/testjson.geojson')"
   ]
  },
  {
   "cell_type": "code",
   "execution_count": 5,
   "metadata": {},
   "outputs": [
    {
     "data": {
      "text/plain": [
       "{'QAfailed': 'No CRS present',\n",
       " 'filename': '/mnt/bigdata/frontierSI/sampledata/raster/grid2_1m.tif'}"
      ]
     },
     "execution_count": 5,
     "metadata": {},
     "output_type": "execute_result"
    }
   ],
   "source": [
    "coveragestats"
   ]
  },
  {
   "cell_type": "code",
   "execution_count": 6,
   "metadata": {},
   "outputs": [
    {
     "ename": "KeyError",
     "evalue": "'intersection'",
     "output_type": "error",
     "traceback": [
      "\u001b[0;31m---------------------------------------------------------------------------\u001b[0m",
      "\u001b[0;31mKeyError\u001b[0m                                  Traceback (most recent call last)",
      "\u001b[0;32m<ipython-input-6-3eefd33ecf5e>\u001b[0m in \u001b[0;36m<module>\u001b[0;34m()\u001b[0m\n\u001b[1;32m      1\u001b[0m \u001b[0;32mfrom\u001b[0m \u001b[0mtestcoverage\u001b[0m \u001b[0;32mimport\u001b[0m \u001b[0mjsontoshapely\u001b[0m\u001b[0;34m\u001b[0m\u001b[0;34m\u001b[0m\u001b[0m\n\u001b[0;32m----> 2\u001b[0;31m \u001b[0mjsontoshapely\u001b[0m\u001b[0;34m(\u001b[0m\u001b[0mcoveragestats\u001b[0m\u001b[0;34m[\u001b[0m\u001b[0;34m\"intersection\"\u001b[0m\u001b[0;34m]\u001b[0m\u001b[0;34m)\u001b[0m\u001b[0;34m\u001b[0m\u001b[0;34m\u001b[0m\u001b[0m\n\u001b[0m",
      "\u001b[0;31mKeyError\u001b[0m: 'intersection'"
     ]
    }
   ],
   "source": [
    "from testcoverage import jsontoshapely\n",
    "jsontoshapely(coveragestats[\"intersection\"])"
   ]
  },
  {
   "cell_type": "markdown",
   "metadata": {},
   "source": [
    "### The null case - we didn't survey any of the planned region"
   ]
  },
  {
   "cell_type": "code",
   "execution_count": null,
   "metadata": {},
   "outputs": [],
   "source": [
    "nullstats = testcoverage.testcoverage('../tests/4819-100000lines.xyz', '../tests/nulltest.shp')"
   ]
  },
  {
   "cell_type": "code",
   "execution_count": null,
   "metadata": {},
   "outputs": [],
   "source": [
    "nullstats"
   ]
  },
  {
   "cell_type": "markdown",
   "metadata": {},
   "source": [
    "### Interpreting results\n",
    "\n",
    "`testcoverage` returns a python dictionary containing:\n",
    "\n",
    "- time of test start\n",
    "- time of test stop\n",
    "- path to the 'planned' coverage\n",
    "- path to the survey swathe being tested\n",
    "- % of planned coverage overlapped by the swath\n",
    "- area (in metres) of the planned coverage overlapped by the swath\n",
    "- distance (in metres) between the centroids of the planned coverage and the swath coverage\n",
    "- minimum distance (in metres) between the planned and survey coverages. This is a rough guide mainly used to see how far away the survey was in the case of no overlap with the planned region\n",
    "- a GeoJSON polygon describing the intersection of planned coverage and survey coverage\n",
    "\n",
    "Optionally, it could contain GeoJSON polygons describing the actual coverages used in the test.\n",
    "\n",
    "**question:** should swath density metrics be included here?"
   ]
  },
  {
   "cell_type": "markdown",
   "metadata": {},
   "source": [
    "## 2. Check BAG coverage of a planned area\n",
    "\n",
    "Does my bathymetry attributed grid cover any of the planned survey region? if so how much? if not roughly how far away were we?"
   ]
  },
  {
   "cell_type": "code",
   "execution_count": null,
   "metadata": {},
   "outputs": [],
   "source": []
  },
  {
   "cell_type": "code",
   "execution_count": null,
   "metadata": {},
   "outputs": [],
   "source": []
  },
  {
   "cell_type": "code",
   "execution_count": null,
   "metadata": {},
   "outputs": [],
   "source": []
  },
  {
   "cell_type": "markdown",
   "metadata": {},
   "source": []
  },
  {
   "cell_type": "code",
   "execution_count": null,
   "metadata": {},
   "outputs": [],
   "source": []
  },
  {
   "cell_type": "code",
   "execution_count": null,
   "metadata": {},
   "outputs": [],
   "source": []
  },
  {
   "cell_type": "code",
   "execution_count": null,
   "metadata": {},
   "outputs": [],
   "source": []
  },
  {
   "cell_type": "markdown",
   "metadata": {},
   "source": [
    "## 4. Test grid density\n",
    "...is my 1m grid really a 1m grid?"
   ]
  },
  {
   "cell_type": "code",
   "execution_count": null,
   "metadata": {},
   "outputs": [],
   "source": []
  },
  {
   "cell_type": "code",
   "execution_count": null,
   "metadata": {},
   "outputs": [],
   "source": []
  },
  {
   "cell_type": "code",
   "execution_count": null,
   "metadata": {},
   "outputs": [],
   "source": []
  },
  {
   "cell_type": "code",
   "execution_count": null,
   "metadata": {},
   "outputs": [],
   "source": []
  }
 ],
 "metadata": {
  "kernelspec": {
   "display_name": "Python 3",
   "language": "python",
   "name": "python3"
  },
  "language_info": {
   "codemirror_mode": {
    "name": "ipython",
    "version": 3
   },
   "file_extension": ".py",
   "mimetype": "text/x-python",
   "name": "python",
   "nbconvert_exporter": "python",
   "pygments_lexer": "ipython3",
   "version": "3.6.7"
  }
 },
 "nbformat": 4,
 "nbformat_minor": 2
}
