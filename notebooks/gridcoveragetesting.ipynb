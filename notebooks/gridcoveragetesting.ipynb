{
 "cells": [
  {
   "cell_type": "markdown",
   "metadata": {},
   "source": [
    "# Testing QA4MBES functionality 2: grid coverage testing\n"
   ]
  },
  {
   "cell_type": "code",
   "execution_count": 1,
   "metadata": {
    "scrolled": true
   },
   "outputs": [],
   "source": [
    "from shapely.geometry import shape\n",
    "import json"
   ]
  },
  {
   "cell_type": "code",
   "execution_count": 2,
   "metadata": {},
   "outputs": [],
   "source": [
    "## awkward hack to import local modules in Jupyter\n",
    "import sys\n",
    "sys.executable\n",
    "sys.path.append('/mnt/bigdata/frontierSI/qa4mbes-data-pipeline/qa4mbes')"
   ]
  },
  {
   "cell_type": "code",
   "execution_count": 3,
   "metadata": {},
   "outputs": [],
   "source": [
    "import testcoverage\n",
    "import getpointcoverage"
   ]
  },
  {
   "cell_type": "markdown",
   "metadata": {},
   "source": [
    "## 1. Check geotiff grid coverage of a planned area\n",
    "\n",
    "Does my geotiff raster cover any of the planned survey region? if so how much? if not roughly how far away were we?"
   ]
  },
  {
   "cell_type": "markdown",
   "metadata": {},
   "source": [
    "### The positive case - we surveyed some of the planned region"
   ]
  },
  {
   "cell_type": "code",
   "execution_count": 4,
   "metadata": {
    "scrolled": true
   },
   "outputs": [
    {
     "name": "stdout",
     "output_type": "stream",
     "text": [
      "CPU times: user 34.2 s, sys: 561 ms, total: 34.8 s\n",
      "Wall time: 34.7 s\n"
     ]
    }
   ],
   "source": [
    "%%time\n",
    "\n",
    "coveragestats = testcoverage.testcoverage('/mnt/bigdata/frontierSI/sampledata/raster/grid1_1m-crs.tiff', '../tests/geotiff-test-grid1.shp')"
   ]
  },
  {
   "cell_type": "code",
   "execution_count": 5,
   "metadata": {},
   "outputs": [
    {
     "data": {
      "text/plain": [
       "{'teststart': '2019-02-27T13:30:26.496565',\n",
       " 'teststop': '2019-02-27T13:31:01.244891',\n",
       " 'plannedcoverage': '../tests/geotiff-test-grid1.shp',\n",
       " 'testswath': '/mnt/bigdata/frontierSI/sampledata/raster/grid1_1m-crs.tiff',\n",
       " 'percentcovered': None,\n",
       " 'areacovered': None,\n",
       " 'centroiddistance': 0.0,\n",
       " 'minimumdistance': 1.7976931348623157e+308,\n",
       " 'intersection': None}"
      ]
     },
     "execution_count": 5,
     "metadata": {},
     "output_type": "execute_result"
    }
   ],
   "source": [
    "coveragestats"
   ]
  },
  {
   "cell_type": "code",
   "execution_count": null,
   "metadata": {
    "scrolled": true
   },
   "outputs": [],
   "source": []
  },
  {
   "cell_type": "markdown",
   "metadata": {},
   "source": [
    "### The null case - we didn't survey any of the planned region"
   ]
  },
  {
   "cell_type": "code",
   "execution_count": 6,
   "metadata": {},
   "outputs": [],
   "source": [
    "nullstats = testcoverage.testcoverage('../tests/4819-100000lines.xyz', '../tests/nulltest.shp')"
   ]
  },
  {
   "cell_type": "code",
   "execution_count": 7,
   "metadata": {},
   "outputs": [
    {
     "data": {
      "text/plain": [
       "{'teststart': '2019-02-27T13:31:01.280988',\n",
       " 'teststop': '2019-02-27T13:31:01.969665',\n",
       " 'plannedcoverage': '../tests/nulltest.shp',\n",
       " 'testswath': '../tests/4819-100000lines.xyz',\n",
       " 'percentcovered': None,\n",
       " 'areacovered': None,\n",
       " 'centroiddistance': 861.5700123271158,\n",
       " 'minimumdistance': 183.13389388218107,\n",
       " 'intersection': None}"
      ]
     },
     "execution_count": 7,
     "metadata": {},
     "output_type": "execute_result"
    }
   ],
   "source": [
    "nullstats"
   ]
  },
  {
   "cell_type": "markdown",
   "metadata": {},
   "source": [
    "## 2. Check BAG coverage of a planned area\n",
    "\n",
    "Does my bathymetry attributed grid cover any of the planned survey region? if so how much? if not roughly how far away were we?"
   ]
  },
  {
   "cell_type": "code",
   "execution_count": 8,
   "metadata": {},
   "outputs": [],
   "source": [
    "# handling BAG\n",
    "import h5py\n",
    "from io import BytesIO\n",
    "from lxml import etree\n"
   ]
  },
  {
   "cell_type": "code",
   "execution_count": 9,
   "metadata": {},
   "outputs": [],
   "source": [
    "bagfile = h5py.File(\"../../bag-samples/grid1_ellipsoid_1m.bag\")"
   ]
  },
  {
   "cell_type": "code",
   "execution_count": 10,
   "metadata": {},
   "outputs": [
    {
     "name": "stdout",
     "output_type": "stream",
     "text": [
      "('elevation', <HDF5 dataset \"elevation\": shape (6551, 6501), type \"<f4\">)\n",
      "('metadata', <HDF5 dataset \"metadata\": shape (47164,), type \"|S1\">)\n",
      "('tracking_list', <HDF5 dataset \"tracking_list\": shape (0,), type \"|V20\">)\n",
      "('uncertainty', <HDF5 dataset \"uncertainty\": shape (6551, 6501), type \"<f4\">)\n"
     ]
    }
   ],
   "source": [
    "for item in bagfile[\"BAG_root\"].items():\n",
    "    print(item)"
   ]
  },
  {
   "cell_type": "code",
   "execution_count": 11,
   "metadata": {},
   "outputs": [],
   "source": [
    "root = bagfile['BAG_root']"
   ]
  },
  {
   "cell_type": "code",
   "execution_count": 12,
   "metadata": {},
   "outputs": [],
   "source": [
    "metadata = root[\"metadata\"]"
   ]
  },
  {
   "cell_type": "code",
   "execution_count": 13,
   "metadata": {},
   "outputs": [
    {
     "data": {
      "text/plain": [
       "array([b'<', b'?', b'x', ..., b'>', b'\\n', b''], dtype='|S1')"
      ]
     },
     "execution_count": 13,
     "metadata": {},
     "output_type": "execute_result"
    }
   ],
   "source": [
    "metadata.value"
   ]
  },
  {
   "cell_type": "code",
   "execution_count": 14,
   "metadata": {},
   "outputs": [
    {
     "ename": "NameError",
     "evalue": "name 'metadatanode' is not defined",
     "output_type": "error",
     "traceback": [
      "\u001b[0;31m---------------------------------------------------------------------------\u001b[0m",
      "\u001b[0;31mNameError\u001b[0m                                 Traceback (most recent call last)",
      "\u001b[0;32m<ipython-input-14-a2a56a3901b0>\u001b[0m in \u001b[0;36m<module>\u001b[0;34m()\u001b[0m\n\u001b[0;32m----> 1\u001b[0;31m \u001b[0mbuffer\u001b[0m \u001b[0;34m=\u001b[0m \u001b[0mBytesIO\u001b[0m\u001b[0;34m(\u001b[0m\u001b[0mmetadatanode\u001b[0m\u001b[0;34m.\u001b[0m\u001b[0mvalue\u001b[0m\u001b[0;34m)\u001b[0m\u001b[0;34m\u001b[0m\u001b[0;34m\u001b[0m\u001b[0m\n\u001b[0m\u001b[1;32m      2\u001b[0m \u001b[0mmetadatatree\u001b[0m \u001b[0;34m=\u001b[0m \u001b[0metree\u001b[0m\u001b[0;34m.\u001b[0m\u001b[0mparse\u001b[0m\u001b[0;34m(\u001b[0m\u001b[0mbuffer\u001b[0m\u001b[0;34m)\u001b[0m\u001b[0;34m\u001b[0m\u001b[0;34m\u001b[0m\u001b[0m\n\u001b[1;32m      3\u001b[0m \u001b[0mmroot\u001b[0m \u001b[0;34m=\u001b[0m \u001b[0mmetadatatree\u001b[0m\u001b[0;34m.\u001b[0m\u001b[0mgetroot\u001b[0m\u001b[0;34m(\u001b[0m\u001b[0;34m)\u001b[0m\u001b[0;34m\u001b[0m\u001b[0;34m\u001b[0m\u001b[0m\n",
      "\u001b[0;31mNameError\u001b[0m: name 'metadatanode' is not defined"
     ]
    }
   ],
   "source": [
    "buffer = BytesIO(metadatanode.value)\n",
    "metadatatree = etree.parse(buffer)\n",
    "mroot = metadatatree.getroot()"
   ]
  },
  {
   "cell_type": "code",
   "execution_count": null,
   "metadata": {},
   "outputs": [],
   "source": [
    "#print(etree.tostring(root, pretty_print=True).decode('ascii'))"
   ]
  },
  {
   "cell_type": "code",
   "execution_count": null,
   "metadata": {
    "scrolled": true
   },
   "outputs": [],
   "source": [
    "for item in mroot:\n",
    "    print(item.tag)"
   ]
  },
  {
   "cell_type": "code",
   "execution_count": null,
   "metadata": {
    "scrolled": false
   },
   "outputs": [],
   "source": [
    "mroot.nsmap"
   ]
  },
  {
   "cell_type": "code",
   "execution_count": null,
   "metadata": {},
   "outputs": [],
   "source": [
    "mroot.get('MD_ReferenceSystem')"
   ]
  },
  {
   "cell_type": "code",
   "execution_count": null,
   "metadata": {},
   "outputs": [],
   "source": [
    "mroot.findtext('MD_ReferenceSystem')"
   ]
  },
  {
   "cell_type": "code",
   "execution_count": null,
   "metadata": {},
   "outputs": [],
   "source": []
  },
  {
   "cell_type": "code",
   "execution_count": null,
   "metadata": {},
   "outputs": [],
   "source": [
    "\n",
    "sri = etree.QName(metadataroot.nsmap['gmd'], 'spatialRepresentationInfo').text\n",
    "mdr = etree.QName(metadataroot.nsmap['gmd'], 'MD_ReferenceSystem').text\n",
    "ref = etree.QName(metadataroot.nsmap['gmd'], 'referenceSystemIdentifier').text\n",
    "code = etree.QName(metadataroot.nsmap['gmd'], 'code').text\n",
    "crs= etree.QName(metadataroot.nsmap['gco'], 'CharacterString').text\n",
    "\n"
   ]
  },
  {
   "cell_type": "code",
   "execution_count": null,
   "metadata": {},
   "outputs": [],
   "source": [
    "resolution = (\n",
    "    root\n",
    "    .find('.//{}'.format(sri))\n",
    "    .find('.//{}'.format(mdr))\n",
    "    .find('.//{}'.format(ref))\n",
    "    .find('.//{}'.format(code))\n",
    "    .find('.//{}'.format(crs))\n",
    ")\n",
    "print(resolution.text, resolution.get('crs'))\n",
    "\n"
   ]
  },
  {
   "cell_type": "code",
   "execution_count": null,
   "metadata": {},
   "outputs": [],
   "source": [
    "root.nsmap"
   ]
  },
  {
   "cell_type": "code",
   "execution_count": null,
   "metadata": {},
   "outputs": [],
   "source": [
    "sri = etree.QName(root.nsmap['gmd'], 'spatialRepresentationInfo').text\n",
    "adp = etree.QName(root.nsmap['gmd'], 'axisDimensionProperties').text\n",
    "dim = etree.QName(root.nsmap['gmd'], 'MD_Dimension').text\n",
    "res = etree.QName(root.nsmap['gmd'], 'resolution').text\n",
    "res_meas = etree.QName(root.nsmap['gco'], 'Measure').text\n",
    "\n",
    "srs = etree.QName(root.nsmap['gco'], 'CharacterString').text"
   ]
  },
  {
   "cell_type": "code",
   "execution_count": null,
   "metadata": {},
   "outputs": [],
   "source": [
    "resolution = root.find('.//{}'.format(res_meas))\n",
    "print(resolution.text, resolution.get('uom'))"
   ]
  },
  {
   "cell_type": "code",
   "execution_count": null,
   "metadata": {},
   "outputs": [],
   "source": [
    "root.nsmap['gmd'][1]"
   ]
  },
  {
   "cell_type": "code",
   "execution_count": null,
   "metadata": {},
   "outputs": [],
   "source": [
    "root.find('.//{}'.format(srs)).text"
   ]
  },
  {
   "cell_type": "code",
   "execution_count": null,
   "metadata": {},
   "outputs": [],
   "source": [
    "south_bound_lat = etree.QName(metadataroot.nsmap['gmd'], 'southBoundLatitude').text"
   ]
  },
  {
   "cell_type": "code",
   "execution_count": null,
   "metadata": {},
   "outputs": [],
   "source": [
    "metadataroot.find('.//{}'.format(south_bound_lat))"
   ]
  },
  {
   "cell_type": "code",
   "execution_count": null,
   "metadata": {},
   "outputs": [],
   "source": [
    "metadataroot.attrib"
   ]
  },
  {
   "cell_type": "markdown",
   "metadata": {},
   "source": [
    "### Interpreting results\n",
    "\n",
    "`testcoverage` returns a python dictionary containing:\n",
    "\n",
    "- time of test start\n",
    "- time of test stop\n",
    "- path to the 'planned' coverage\n",
    "- path to the survey swathe being tested\n",
    "- % of planned coverage overlapped by the swath\n",
    "- area (in metres) of the planned coverage overlapped by the swath\n",
    "- distance (in metres) between the centroids of the planned coverage and the swath coverage\n",
    "- minimum distance (in metres) between the planned and survey coverages. This is a rough guide mainly used to see how far away the survey was in the case of no overlap with the planned region\n",
    "- a GeoJSON polygon describing the intersection of planned coverage and survey coverage\n",
    "\n",
    "Optionally, it could contain GeoJSON polygons describing the actual coverages used in the test.\n",
    "\n",
    "**question:** should swath density metrics be included here?"
   ]
  }
 ],
 "metadata": {
  "kernelspec": {
   "display_name": "Python 3",
   "language": "python",
   "name": "python3"
  },
  "language_info": {
   "codemirror_mode": {
    "name": "ipython",
    "version": 3
   },
   "file_extension": ".py",
   "mimetype": "text/x-python",
   "name": "python",
   "nbconvert_exporter": "python",
   "pygments_lexer": "ipython3",
   "version": "3.6.7"
  }
 },
 "nbformat": 4,
 "nbformat_minor": 2
}
