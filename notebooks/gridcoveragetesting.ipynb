{
 "cells": [
  {
   "cell_type": "markdown",
   "metadata": {},
   "source": [
    "# Testing QA4MBES functionality 2: grid coverage testing\n"
   ]
  },
  {
   "cell_type": "code",
   "execution_count": 1,
   "metadata": {
    "scrolled": true
   },
   "outputs": [],
   "source": [
    "from shapely.geometry import shape\n",
    "import json"
   ]
  },
  {
   "cell_type": "code",
   "execution_count": 2,
   "metadata": {},
   "outputs": [],
   "source": [
    "## awkward hack to import local modules in Jupyter\n",
    "import sys\n",
    "sys.executable\n",
    "sys.path.append('/mnt/bigdata/frontierSI/qa4mbes-data-pipeline/qa4mbes')"
   ]
  },
  {
   "cell_type": "code",
   "execution_count": 3,
   "metadata": {},
   "outputs": [],
   "source": [
    "import testcoverage\n",
    "import getpointcoverage"
   ]
  },
  {
   "cell_type": "code",
   "execution_count": null,
   "metadata": {},
   "outputs": [],
   "source": []
  },
  {
   "cell_type": "markdown",
   "metadata": {},
   "source": [
    "## 1. Check geotiff grid coverage of a planned area\n",
    "\n",
    "Does my geotiff raster cover any of the planned survey region? if so how much? if not roughly how far away were we?"
   ]
  },
  {
   "cell_type": "markdown",
   "metadata": {},
   "source": [
    "### The positive case - we surveyed some of the planned region"
   ]
  },
  {
   "cell_type": "code",
   "execution_count": null,
   "metadata": {
    "scrolled": false
   },
   "outputs": [],
   "source": [
    "%%time\n",
    "\n",
    "coveragestats = testcoverage.testcoverage('/mnt/bigdata/frontierSI/sampledata/raster/grid1_1m-crs.tiff', '../tests/testjson.geojson')"
   ]
  },
  {
   "cell_type": "code",
   "execution_count": 5,
   "metadata": {},
   "outputs": [
    {
     "data": {
      "text/plain": [
       "{'QAfailed': 'No CRS present',\n",
       " 'filename': '/mnt/bigdata/frontierSI/sampledata/raster/grid2_1m.tif'}"
      ]
     },
     "execution_count": 5,
     "metadata": {},
     "output_type": "execute_result"
    }
   ],
   "source": [
    "coveragestats"
   ]
  },
  {
   "cell_type": "code",
   "execution_count": 6,
   "metadata": {
    "scrolled": true
   },
   "outputs": [
    {
     "ename": "KeyError",
     "evalue": "'intersection'",
     "output_type": "error",
     "traceback": [
      "\u001b[0;31m---------------------------------------------------------------------------\u001b[0m",
      "\u001b[0;31mKeyError\u001b[0m                                  Traceback (most recent call last)",
      "\u001b[0;32m<ipython-input-6-3eefd33ecf5e>\u001b[0m in \u001b[0;36m<module>\u001b[0;34m()\u001b[0m\n\u001b[1;32m      1\u001b[0m \u001b[0;32mfrom\u001b[0m \u001b[0mtestcoverage\u001b[0m \u001b[0;32mimport\u001b[0m \u001b[0mjsontoshapely\u001b[0m\u001b[0;34m\u001b[0m\u001b[0;34m\u001b[0m\u001b[0m\n\u001b[0;32m----> 2\u001b[0;31m \u001b[0mjsontoshapely\u001b[0m\u001b[0;34m(\u001b[0m\u001b[0mcoveragestats\u001b[0m\u001b[0;34m[\u001b[0m\u001b[0;34m\"intersection\"\u001b[0m\u001b[0;34m]\u001b[0m\u001b[0;34m)\u001b[0m\u001b[0;34m\u001b[0m\u001b[0;34m\u001b[0m\u001b[0m\n\u001b[0m",
      "\u001b[0;31mKeyError\u001b[0m: 'intersection'"
     ]
    }
   ],
   "source": [
    "from testcoverage import jsontoshapely\n",
    "jsontoshapely(coveragestats[\"intersection\"])"
   ]
  },
  {
   "cell_type": "markdown",
   "metadata": {},
   "source": [
    "### The null case - we didn't survey any of the planned region"
   ]
  },
  {
   "cell_type": "code",
   "execution_count": null,
   "metadata": {},
   "outputs": [],
   "source": [
    "nullstats = testcoverage.testcoverage('../tests/4819-100000lines.xyz', '../tests/nulltest.shp')"
   ]
  },
  {
   "cell_type": "code",
   "execution_count": null,
   "metadata": {},
   "outputs": [],
   "source": [
    "nullstats"
   ]
  },
  {
   "cell_type": "markdown",
   "metadata": {},
   "source": [
    "### Interpreting results\n",
    "\n",
    "`testcoverage` returns a python dictionary containing:\n",
    "\n",
    "- time of test start\n",
    "- time of test stop\n",
    "- path to the 'planned' coverage\n",
    "- path to the survey swathe being tested\n",
    "- % of planned coverage overlapped by the swath\n",
    "- area (in metres) of the planned coverage overlapped by the swath\n",
    "- distance (in metres) between the centroids of the planned coverage and the swath coverage\n",
    "- minimum distance (in metres) between the planned and survey coverages. This is a rough guide mainly used to see how far away the survey was in the case of no overlap with the planned region\n",
    "- a GeoJSON polygon describing the intersection of planned coverage and survey coverage\n",
    "\n",
    "Optionally, it could contain GeoJSON polygons describing the actual coverages used in the test.\n",
    "\n",
    "**question:** should swath density metrics be included here?"
   ]
  },
  {
   "cell_type": "markdown",
   "metadata": {},
   "source": [
    "## 2. Check BAG coverage of a planned area\n",
    "\n",
    "Does my bathymetry attributed grid cover any of the planned survey region? if so how much? if not roughly how far away were we?"
   ]
  },
  {
   "cell_type": "code",
   "execution_count": 198,
   "metadata": {},
   "outputs": [],
   "source": [
    "# handling BAG\n",
    "import h5py\n",
    "from io import BytesIO\n",
    "from lxml import etree\n"
   ]
  },
  {
   "cell_type": "code",
   "execution_count": 199,
   "metadata": {},
   "outputs": [],
   "source": [
    "bagfile = h5py.File(\"../../bag-samples/grid1_ellipsoid_1m.bag\")"
   ]
  },
  {
   "cell_type": "code",
   "execution_count": 200,
   "metadata": {},
   "outputs": [
    {
     "name": "stdout",
     "output_type": "stream",
     "text": [
      "('elevation', <HDF5 dataset \"elevation\": shape (6551, 6501), type \"<f4\">)\n",
      "('metadata', <HDF5 dataset \"metadata\": shape (47164,), type \"|S1\">)\n",
      "('tracking_list', <HDF5 dataset \"tracking_list\": shape (0,), type \"|V20\">)\n",
      "('uncertainty', <HDF5 dataset \"uncertainty\": shape (6551, 6501), type \"<f4\">)\n"
     ]
    }
   ],
   "source": [
    "for item in bagfile[\"BAG_root\"].items():\n",
    "    print(item)"
   ]
  },
  {
   "cell_type": "code",
   "execution_count": 201,
   "metadata": {},
   "outputs": [],
   "source": [
    "root = bagfile['BAG_root']"
   ]
  },
  {
   "cell_type": "code",
   "execution_count": 203,
   "metadata": {},
   "outputs": [],
   "source": [
    "metadata = root[\"metadata\"]"
   ]
  },
  {
   "cell_type": "code",
   "execution_count": 208,
   "metadata": {},
   "outputs": [
    {
     "data": {
      "text/plain": [
       "array([b'<', b'?', b'x', ..., b'>', b'\\n', b''], dtype='|S1')"
      ]
     },
     "execution_count": 208,
     "metadata": {},
     "output_type": "execute_result"
    }
   ],
   "source": [
    "metadata.value"
   ]
  },
  {
   "cell_type": "code",
   "execution_count": 209,
   "metadata": {},
   "outputs": [],
   "source": [
    "buffer = BytesIO(metadatanode.value)\n",
    "metadatatree = etree.parse(buffer)\n",
    "mroot = metadatatree.getroot()"
   ]
  },
  {
   "cell_type": "code",
   "execution_count": 196,
   "metadata": {},
   "outputs": [],
   "source": [
    "#print(etree.tostring(root, pretty_print=True).decode('ascii'))"
   ]
  },
  {
   "cell_type": "code",
   "execution_count": 215,
   "metadata": {
    "scrolled": true
   },
   "outputs": [
    {
     "name": "stdout",
     "output_type": "stream",
     "text": [
      "{http://www.isotc211.org/2005/gmd}fileIdentifier\n",
      "{http://www.isotc211.org/2005/gmd}language\n",
      "{http://www.isotc211.org/2005/gmd}characterSet\n",
      "{http://www.isotc211.org/2005/gmd}hierarchyLevel\n",
      "{http://www.isotc211.org/2005/gmd}contact\n",
      "{http://www.isotc211.org/2005/gmd}dateStamp\n",
      "{http://www.isotc211.org/2005/gmd}metadataStandardName\n",
      "{http://www.isotc211.org/2005/gmd}metadataStandardVersion\n",
      "{http://www.isotc211.org/2005/gmd}spatialRepresentationInfo\n",
      "{http://www.isotc211.org/2005/gmd}spatialRepresentationInfo\n",
      "{http://www.isotc211.org/2005/gmd}referenceSystemInfo\n",
      "{http://www.isotc211.org/2005/gmd}referenceSystemInfo\n",
      "{http://www.isotc211.org/2005/gmd}identificationInfo\n",
      "{http://www.isotc211.org/2005/gmd}distributionInfo\n",
      "{http://www.isotc211.org/2005/gmd}dataQualityInfo\n",
      "{http://www.isotc211.org/2005/gmd}metadataConstraints\n",
      "{http://www.isotc211.org/2005/gmd}metadataConstraints\n",
      "{http://www.isotc211.org/2005/gmi}acquisitionInformation\n"
     ]
    }
   ],
   "source": [
    "for item in mroot:\n",
    "    print(item.tag)"
   ]
  },
  {
   "cell_type": "code",
   "execution_count": 229,
   "metadata": {
    "scrolled": false
   },
   "outputs": [
    {
     "data": {
      "text/plain": [
       "{'gmi': 'http://www.isotc211.org/2005/gmi',\n",
       " 'gmd': 'http://www.isotc211.org/2005/gmd',\n",
       " 'xsi': 'http://www.w3.org/2001/XMLSchema-instance',\n",
       " 'gml': 'http://www.opengis.net/gml/3.2',\n",
       " 'gco': 'http://www.isotc211.org/2005/gco',\n",
       " 'xlink': 'http://www.w3.org/1999/xlink',\n",
       " 'bag': 'http://www.opennavsurf.org/schema/bag'}"
      ]
     },
     "execution_count": 229,
     "metadata": {},
     "output_type": "execute_result"
    }
   ],
   "source": [
    "mroot.nsmap"
   ]
  },
  {
   "cell_type": "code",
   "execution_count": 234,
   "metadata": {},
   "outputs": [],
   "source": [
    "mroot.get('MD_ReferenceSystem')"
   ]
  },
  {
   "cell_type": "code",
   "execution_count": 228,
   "metadata": {},
   "outputs": [],
   "source": [
    "mroot.findtext('MD_ReferenceSystem')"
   ]
  },
  {
   "cell_type": "code",
   "execution_count": 224,
   "metadata": {},
   "outputs": [],
   "source": []
  },
  {
   "cell_type": "code",
   "execution_count": 164,
   "metadata": {},
   "outputs": [],
   "source": [
    "\n",
    "sri = etree.QName(metadataroot.nsmap['gmd'], 'spatialRepresentationInfo').text\n",
    "mdr = etree.QName(metadataroot.nsmap['gmd'], 'MD_ReferenceSystem').text\n",
    "ref = etree.QName(metadataroot.nsmap['gmd'], 'referenceSystemIdentifier').text\n",
    "code = etree.QName(metadataroot.nsmap['gmd'], 'code').text\n",
    "crs= etree.QName(metadataroot.nsmap['gco'], 'CharacterString').text\n",
    "\n"
   ]
  },
  {
   "cell_type": "code",
   "execution_count": 171,
   "metadata": {},
   "outputs": [
    {
     "ename": "AttributeError",
     "evalue": "'NoneType' object has no attribute 'find'",
     "output_type": "error",
     "traceback": [
      "\u001b[0;31m---------------------------------------------------------------------------\u001b[0m",
      "\u001b[0;31mAttributeError\u001b[0m                            Traceback (most recent call last)",
      "\u001b[0;32m<ipython-input-171-95f9bdf2d9fc>\u001b[0m in \u001b[0;36m<module>\u001b[0;34m()\u001b[0m\n\u001b[1;32m      2\u001b[0m     \u001b[0mroot\u001b[0m\u001b[0;34m\u001b[0m\u001b[0;34m\u001b[0m\u001b[0m\n\u001b[1;32m      3\u001b[0m     \u001b[0;34m.\u001b[0m\u001b[0mfind\u001b[0m\u001b[0;34m(\u001b[0m\u001b[0;34m'.//{}'\u001b[0m\u001b[0;34m.\u001b[0m\u001b[0mformat\u001b[0m\u001b[0;34m(\u001b[0m\u001b[0msri\u001b[0m\u001b[0;34m)\u001b[0m\u001b[0;34m)\u001b[0m\u001b[0;34m\u001b[0m\u001b[0;34m\u001b[0m\u001b[0m\n\u001b[0;32m----> 4\u001b[0;31m     \u001b[0;34m.\u001b[0m\u001b[0mfind\u001b[0m\u001b[0;34m(\u001b[0m\u001b[0;34m'.//{}'\u001b[0m\u001b[0;34m.\u001b[0m\u001b[0mformat\u001b[0m\u001b[0;34m(\u001b[0m\u001b[0mmdr\u001b[0m\u001b[0;34m)\u001b[0m\u001b[0;34m)\u001b[0m\u001b[0;34m\u001b[0m\u001b[0;34m\u001b[0m\u001b[0m\n\u001b[0m\u001b[1;32m      5\u001b[0m     \u001b[0;34m.\u001b[0m\u001b[0mfind\u001b[0m\u001b[0;34m(\u001b[0m\u001b[0;34m'.//{}'\u001b[0m\u001b[0;34m.\u001b[0m\u001b[0mformat\u001b[0m\u001b[0;34m(\u001b[0m\u001b[0mref\u001b[0m\u001b[0;34m)\u001b[0m\u001b[0;34m)\u001b[0m\u001b[0;34m\u001b[0m\u001b[0;34m\u001b[0m\u001b[0m\n\u001b[1;32m      6\u001b[0m     \u001b[0;34m.\u001b[0m\u001b[0mfind\u001b[0m\u001b[0;34m(\u001b[0m\u001b[0;34m'.//{}'\u001b[0m\u001b[0;34m.\u001b[0m\u001b[0mformat\u001b[0m\u001b[0;34m(\u001b[0m\u001b[0mcode\u001b[0m\u001b[0;34m)\u001b[0m\u001b[0;34m)\u001b[0m\u001b[0;34m\u001b[0m\u001b[0;34m\u001b[0m\u001b[0m\n",
      "\u001b[0;31mAttributeError\u001b[0m: 'NoneType' object has no attribute 'find'"
     ]
    }
   ],
   "source": [
    "resolution = (\n",
    "    root\n",
    "    .find('.//{}'.format(sri))\n",
    "    .find('.//{}'.format(mdr))\n",
    "    .find('.//{}'.format(ref))\n",
    "    .find('.//{}'.format(code))\n",
    "    .find('.//{}'.format(crs))\n",
    ")\n",
    "print(resolution.text, resolution.get('crs'))\n",
    "\n"
   ]
  },
  {
   "cell_type": "code",
   "execution_count": 174,
   "metadata": {},
   "outputs": [
    {
     "data": {
      "text/plain": [
       "{'gmi': 'http://www.isotc211.org/2005/gmi',\n",
       " 'gmd': 'http://www.isotc211.org/2005/gmd',\n",
       " 'xsi': 'http://www.w3.org/2001/XMLSchema-instance',\n",
       " 'gml': 'http://www.opengis.net/gml/3.2',\n",
       " 'gco': 'http://www.isotc211.org/2005/gco',\n",
       " 'xlink': 'http://www.w3.org/1999/xlink',\n",
       " 'bag': 'http://www.opennavsurf.org/schema/bag'}"
      ]
     },
     "execution_count": 174,
     "metadata": {},
     "output_type": "execute_result"
    }
   ],
   "source": [
    "root.nsmap"
   ]
  },
  {
   "cell_type": "code",
   "execution_count": 195,
   "metadata": {},
   "outputs": [
    {
     "ename": "ValueError",
     "evalue": "Invalid tag name 'http://www.isotc211.org/2005/gmd'",
     "output_type": "error",
     "traceback": [
      "\u001b[0;31m---------------------------------------------------------------------------\u001b[0m",
      "\u001b[0;31mValueError\u001b[0m                                Traceback (most recent call last)",
      "\u001b[0;32m<ipython-input-195-4fd3a840410e>\u001b[0m in \u001b[0;36m<module>\u001b[0;34m()\u001b[0m\n\u001b[0;32m----> 1\u001b[0;31m \u001b[0msri\u001b[0m \u001b[0;34m=\u001b[0m \u001b[0metree\u001b[0m\u001b[0;34m.\u001b[0m\u001b[0mQName\u001b[0m\u001b[0;34m(\u001b[0m\u001b[0mroot\u001b[0m\u001b[0;34m.\u001b[0m\u001b[0mnsmap\u001b[0m\u001b[0;34m[\u001b[0m\u001b[0;34m'gmd'\u001b[0m\u001b[0;34m]\u001b[0m\u001b[0;34m)\u001b[0m\u001b[0;34m.\u001b[0m\u001b[0mtext\u001b[0m\u001b[0;34m\u001b[0m\u001b[0;34m\u001b[0m\u001b[0m\n\u001b[0m\u001b[1;32m      2\u001b[0m \u001b[0madp\u001b[0m \u001b[0;34m=\u001b[0m \u001b[0metree\u001b[0m\u001b[0;34m.\u001b[0m\u001b[0mQName\u001b[0m\u001b[0;34m(\u001b[0m\u001b[0mroot\u001b[0m\u001b[0;34m.\u001b[0m\u001b[0mnsmap\u001b[0m\u001b[0;34m[\u001b[0m\u001b[0;34m'gmd'\u001b[0m\u001b[0;34m]\u001b[0m\u001b[0;34m,\u001b[0m \u001b[0;34m'axisDimensionProperties'\u001b[0m\u001b[0;34m)\u001b[0m\u001b[0;34m.\u001b[0m\u001b[0mtext\u001b[0m\u001b[0;34m\u001b[0m\u001b[0;34m\u001b[0m\u001b[0m\n\u001b[1;32m      3\u001b[0m \u001b[0mdim\u001b[0m \u001b[0;34m=\u001b[0m \u001b[0metree\u001b[0m\u001b[0;34m.\u001b[0m\u001b[0mQName\u001b[0m\u001b[0;34m(\u001b[0m\u001b[0mroot\u001b[0m\u001b[0;34m.\u001b[0m\u001b[0mnsmap\u001b[0m\u001b[0;34m[\u001b[0m\u001b[0;34m'gmd'\u001b[0m\u001b[0;34m]\u001b[0m\u001b[0;34m,\u001b[0m \u001b[0;34m'MD_Dimension'\u001b[0m\u001b[0;34m)\u001b[0m\u001b[0;34m.\u001b[0m\u001b[0mtext\u001b[0m\u001b[0;34m\u001b[0m\u001b[0;34m\u001b[0m\u001b[0m\n\u001b[1;32m      4\u001b[0m \u001b[0mres\u001b[0m \u001b[0;34m=\u001b[0m \u001b[0metree\u001b[0m\u001b[0;34m.\u001b[0m\u001b[0mQName\u001b[0m\u001b[0;34m(\u001b[0m\u001b[0mroot\u001b[0m\u001b[0;34m.\u001b[0m\u001b[0mnsmap\u001b[0m\u001b[0;34m[\u001b[0m\u001b[0;34m'gmd'\u001b[0m\u001b[0;34m]\u001b[0m\u001b[0;34m,\u001b[0m \u001b[0;34m'resolution'\u001b[0m\u001b[0;34m)\u001b[0m\u001b[0;34m.\u001b[0m\u001b[0mtext\u001b[0m\u001b[0;34m\u001b[0m\u001b[0;34m\u001b[0m\u001b[0m\n\u001b[1;32m      5\u001b[0m \u001b[0mres_meas\u001b[0m \u001b[0;34m=\u001b[0m \u001b[0metree\u001b[0m\u001b[0;34m.\u001b[0m\u001b[0mQName\u001b[0m\u001b[0;34m(\u001b[0m\u001b[0mroot\u001b[0m\u001b[0;34m.\u001b[0m\u001b[0mnsmap\u001b[0m\u001b[0;34m[\u001b[0m\u001b[0;34m'gco'\u001b[0m\u001b[0;34m]\u001b[0m\u001b[0;34m,\u001b[0m \u001b[0;34m'Measure'\u001b[0m\u001b[0;34m)\u001b[0m\u001b[0;34m.\u001b[0m\u001b[0mtext\u001b[0m\u001b[0;34m\u001b[0m\u001b[0;34m\u001b[0m\u001b[0m\n",
      "\u001b[0;32msrc/lxml/etree.pyx\u001b[0m in \u001b[0;36mlxml.etree.QName.__init__\u001b[0;34m()\u001b[0m\n",
      "\u001b[0;32msrc/lxml/apihelpers.pxi\u001b[0m in \u001b[0;36mlxml.etree._tagValidOrRaise\u001b[0;34m()\u001b[0m\n",
      "\u001b[0;31mValueError\u001b[0m: Invalid tag name 'http://www.isotc211.org/2005/gmd'"
     ]
    }
   ],
   "source": [
    "sri = etree.QName(root.nsmap['gmd'], 'spatialRepresentationInfo').text\n",
    "adp = etree.QName(root.nsmap['gmd'], 'axisDimensionProperties').text\n",
    "dim = etree.QName(root.nsmap['gmd'], 'MD_Dimension').text\n",
    "res = etree.QName(root.nsmap['gmd'], 'resolution').text\n",
    "res_meas = etree.QName(root.nsmap['gco'], 'Measure').text\n",
    "\n",
    "srs = etree.QName(root.nsmap['gco'], 'CharacterString').text"
   ]
  },
  {
   "cell_type": "code",
   "execution_count": 187,
   "metadata": {},
   "outputs": [
    {
     "name": "stdout",
     "output_type": "stream",
     "text": [
      "1.000000000000 m\n"
     ]
    }
   ],
   "source": [
    "resolution = root.find('.//{}'.format(res_meas))\n",
    "print(resolution.text, resolution.get('uom'))"
   ]
  },
  {
   "cell_type": "code",
   "execution_count": 194,
   "metadata": {},
   "outputs": [
    {
     "data": {
      "text/plain": [
       "'t'"
      ]
     },
     "execution_count": 194,
     "metadata": {},
     "output_type": "execute_result"
    }
   ],
   "source": [
    "root.nsmap['gmd'][1]"
   ]
  },
  {
   "cell_type": "code",
   "execution_count": null,
   "metadata": {},
   "outputs": [],
   "source": [
    "root.find('.//{}'.format(srs)).text"
   ]
  },
  {
   "cell_type": "code",
   "execution_count": 51,
   "metadata": {},
   "outputs": [],
   "source": [
    "south_bound_lat = etree.QName(metadataroot.nsmap['gmd'], 'southBoundLatitude').text"
   ]
  },
  {
   "cell_type": "code",
   "execution_count": 55,
   "metadata": {},
   "outputs": [
    {
     "data": {
      "text/plain": [
       "<Element {http://www.isotc211.org/2005/gmd}southBoundLatitude at 0x7f46c0596ac8>"
      ]
     },
     "execution_count": 55,
     "metadata": {},
     "output_type": "execute_result"
    }
   ],
   "source": [
    "metadataroot.find('.//{}'.format(south_bound_lat))"
   ]
  },
  {
   "cell_type": "code",
   "execution_count": 61,
   "metadata": {},
   "outputs": [
    {
     "data": {
      "text/plain": [
       "{}"
      ]
     },
     "execution_count": 61,
     "metadata": {},
     "output_type": "execute_result"
    }
   ],
   "source": [
    "metadataroot.attrib"
   ]
  },
  {
   "cell_type": "markdown",
   "metadata": {},
   "source": [
    "## 4. Test grid density\n",
    "...is my 1m grid really a 1m grid?"
   ]
  },
  {
   "cell_type": "code",
   "execution_count": null,
   "metadata": {},
   "outputs": [],
   "source": []
  },
  {
   "cell_type": "code",
   "execution_count": null,
   "metadata": {},
   "outputs": [],
   "source": []
  },
  {
   "cell_type": "code",
   "execution_count": null,
   "metadata": {},
   "outputs": [],
   "source": []
  },
  {
   "cell_type": "code",
   "execution_count": null,
   "metadata": {},
   "outputs": [],
   "source": []
  }
 ],
 "metadata": {
  "kernelspec": {
   "display_name": "Python 3",
   "language": "python",
   "name": "python3"
  },
  "language_info": {
   "codemirror_mode": {
    "name": "ipython",
    "version": 3
   },
   "file_extension": ".py",
   "mimetype": "text/x-python",
   "name": "python",
   "nbconvert_exporter": "python",
   "pygments_lexer": "ipython3",
   "version": "3.6.7"
  }
 },
 "nbformat": 4,
 "nbformat_minor": 2
}
